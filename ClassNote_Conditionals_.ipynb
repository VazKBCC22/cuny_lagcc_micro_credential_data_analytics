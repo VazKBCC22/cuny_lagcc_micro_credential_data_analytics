{
  "nbformat": 4,
  "nbformat_minor": 0,
  "metadata": {
    "colab": {
      "name": "ClassNote_Conditionals_.ipynb",
      "provenance": [],
      "authorship_tag": "ABX9TyM3Iiscyk/X0l0EPOR9rbs9",
      "include_colab_link": true
    },
    "kernelspec": {
      "name": "python3",
      "display_name": "Python 3"
    },
    "language_info": {
      "name": "python"
    }
  },
  "cells": [
    {
      "cell_type": "markdown",
      "metadata": {
        "id": "view-in-github",
        "colab_type": "text"
      },
      "source": [
        "<a href=\"https://colab.research.google.com/github/VazKBCC22/cuny_lagcc_micro_credential_data_analytics/blob/main/ClassNote_Conditionals_.ipynb\" target=\"_parent\"><img src=\"https://colab.research.google.com/assets/colab-badge.svg\" alt=\"Open In Colab\"/></a>"
      ]
    },
    {
      "cell_type": "markdown",
      "source": [
        ""
      ],
      "metadata": {
        "id": "t_B_Z4tjASSf"
      }
    },
    {
      "cell_type": "markdown",
      "source": [
        "#Condtional Tests\n"
      ],
      "metadata": {
        "id": "SSE6oEnbAT8P"
      }
    },
    {
      "cell_type": "markdown",
      "source": [
        "###Simples if and else and Statements:"
      ],
      "metadata": {
        "id": "K_OPlClKAYrE"
      }
    },
    {
      "cell_type": "code",
      "source": [
        "motorcycles = ['ducati', 'bwm', 'yamaha', 'honda']\n",
        "for bike in motorcycles:\n",
        "  if bike == 'ducati':\n",
        "    print(bike.upper())\n",
        "  else:\n",
        "    print(bike.lower())"
      ],
      "metadata": {
        "colab": {
          "base_uri": "https://localhost:8080/"
        },
        "id": "np36zn5hAtRx",
        "outputId": "bc249223-979d-4049-a66f-2d89b57bcbe3"
      },
      "execution_count": null,
      "outputs": [
        {
          "output_type": "stream",
          "name": "stdout",
          "text": [
            "DUCATI\n",
            "bwm\n",
            "yamaha\n",
            "honda\n"
          ]
        }
      ]
    },
    {
      "cell_type": "markdown",
      "source": [
        "### Numeric Comparisons"
      ],
      "metadata": {
        "id": "gfX8TVI_B7D6"
      }
    },
    {
      "cell_type": "code",
      "source": [
        "readmit_days_after_discharged = 29\n",
        "if readmit_days_after_discharged < 30:\n",
        "  print(\"Patient was readmitted within 30 days\")\n",
        "else:\n",
        "  (\"Patient was readmitted after 30 days\")"
      ],
      "metadata": {
        "colab": {
          "base_uri": "https://localhost:8080/"
        },
        "id": "mVP4_3SmCN3I",
        "outputId": "22814a2e-dc1f-462b-beb6-d60b37ce15f3"
      },
      "execution_count": null,
      "outputs": [
        {
          "output_type": "stream",
          "name": "stdout",
          "text": [
            "Patient was readmitted within 30 days\n"
          ]
        }
      ]
    },
    {
      "cell_type": "code",
      "source": [
        "studentA_age = 24\n",
        "studentB_age = 33\n",
        "studentA_age >= 20 or studentB_age >= 21"
      ],
      "metadata": {
        "colab": {
          "base_uri": "https://localhost:8080/"
        },
        "id": "RVUpk12xEUlb",
        "outputId": "51fcec06-f1fe-4d22-b1ba-783d9412ed74"
      },
      "execution_count": null,
      "outputs": [
        {
          "output_type": "execute_result",
          "data": {
            "text/plain": [
              "True"
            ]
          },
          "metadata": {},
          "execution_count": 3
        }
      ]
    },
    {
      "cell_type": "markdown",
      "source": [
        "##Checking if a Value Exists in a List\n"
      ],
      "metadata": {
        "id": "kR8gYUivGZPc"
      }
    },
    {
      "cell_type": "code",
      "source": [
        "patient_exam_recond = ['ecg', 'echo', 'cath']\n",
        "'cath' in patient_exam_recond"
      ],
      "metadata": {
        "colab": {
          "base_uri": "https://localhost:8080/"
        },
        "id": "MnIMctGcHpWO",
        "outputId": "1a994a54-42be-496f-d2e5-1cb6e7b7a8af"
      },
      "execution_count": null,
      "outputs": [
        {
          "output_type": "execute_result",
          "data": {
            "text/plain": [
              "True"
            ]
          },
          "metadata": {},
          "execution_count": 4
        }
      ]
    },
    {
      "cell_type": "code",
      "source": [
        "patient_allergies = ['latex', 'penicillin', 'aspirin']\n",
        "new_allergy = 'ibuprofen'\n",
        "\n",
        "if new_allergy not in patient_allergies:\n",
        "  print(new_allergy.title() + \", was not in previous allergy list. Please confirm.\")"
      ],
      "metadata": {
        "colab": {
          "base_uri": "https://localhost:8080/"
        },
        "id": "SZ0IDeHJH6t5",
        "outputId": "6323bc05-4d23-4b0f-d2d3-bfe724beb2e0"
      },
      "execution_count": null,
      "outputs": [
        {
          "output_type": "stream",
          "name": "stdout",
          "text": [
            "Ibuprofen, was not in previous allergy list. Please confirm.\n"
          ]
        }
      ]
    },
    {
      "cell_type": "markdown",
      "source": [
        "##More Simple If Statements"
      ],
      "metadata": {
        "id": "b6K7D81TKahC"
      }
    },
    {
      "cell_type": "code",
      "source": [
        "age = 19\n",
        "if age >= 18:\n",
        "  print(\"You're old enought to vote!\")"
      ],
      "metadata": {
        "colab": {
          "base_uri": "https://localhost:8080/"
        },
        "id": "IoASKZwNMaoa",
        "outputId": "77c8a8a2-471f-4f5d-e0de-2adaea9bedf8"
      },
      "execution_count": null,
      "outputs": [
        {
          "output_type": "stream",
          "name": "stdout",
          "text": [
            "You're old enought to vote!\n"
          ]
        }
      ]
    },
    {
      "cell_type": "code",
      "source": [
        "age = 17\n",
        "if age >= 18:\n",
        "  print(\"You're old enought to vote!\")\n",
        "else:\n",
        "  print(\"Not old enought!\")"
      ],
      "metadata": {
        "colab": {
          "base_uri": "https://localhost:8080/"
        },
        "outputId": "5ff799c0-7987-433a-c3ef-9504b83b3f8a",
        "id": "lemO450DOi96"
      },
      "execution_count": null,
      "outputs": [
        {
          "output_type": "stream",
          "name": "stdout",
          "text": [
            "Not old enought!\n"
          ]
        }
      ]
    },
    {
      "cell_type": "markdown",
      "source": [
        "##If-ElIf-Else"
      ],
      "metadata": {
        "id": "oTCDPoO5O0Px"
      }
    },
    {
      "cell_type": "code",
      "source": [
        "age = 32\n",
        "if age < 5:\n",
        "  print(\"Admission price is free\")\n",
        "elif age < 18:\n",
        "  print(\"Admission price is $5\")\n",
        "else:\n",
        "  print(\"Admission price is $10\")"
      ],
      "metadata": {
        "colab": {
          "base_uri": "https://localhost:8080/"
        },
        "id": "NRkE8BcYO9I8",
        "outputId": "e7ed9faa-18b0-4857-a474-cea636112364"
      },
      "execution_count": null,
      "outputs": [
        {
          "output_type": "stream",
          "name": "stdout",
          "text": [
            "Admission price is $10\n"
          ]
        }
      ]
    },
    {
      "cell_type": "code",
      "source": [
        "age = 17\n",
        "if age < 4:\n",
        "  price = 0\n",
        "elif age < 18:\n",
        "   price = 5\n",
        "else:\n",
        "  price = 10\n",
        "print(\"Admission price isL \" + str(price))"
      ],
      "metadata": {
        "colab": {
          "base_uri": "https://localhost:8080/"
        },
        "id": "qzIWlq6SQ2tQ",
        "outputId": "7ac4ac6f-2f53-4fd7-da71-d5630f7f4f80"
      },
      "execution_count": null,
      "outputs": [
        {
          "output_type": "stream",
          "name": "stdout",
          "text": [
            "Admission price isL 5\n"
          ]
        }
      ]
    },
    {
      "cell_type": "markdown",
      "source": [
        "##Multiple Conditions"
      ],
      "metadata": {
        "id": "koytXwimRrF4"
      }
    },
    {
      "cell_type": "code",
      "source": [
        "toppings = ['chocolate', 'sprinkles']\n",
        "if 'chocolate' in toppings:\n",
        "  print('adding chocolate')\n",
        "if 'sprinkles' in toppings:\n",
        "  print('adding sprinkles')\n",
        "if 'peanuts' in toppings:\n",
        "  print('adding peanuts')"
      ],
      "metadata": {
        "colab": {
          "base_uri": "https://localhost:8080/"
        },
        "id": "HbJHw1I1SWtK",
        "outputId": "779b6a56-cd72-4521-8eb9-5e3502399f1e"
      },
      "execution_count": 14,
      "outputs": [
        {
          "output_type": "stream",
          "name": "stdout",
          "text": [
            "adding chocolate\n",
            "adding sprinkles\n"
          ]
        }
      ]
    },
    {
      "cell_type": "markdown",
      "source": [
        "##Using If Statements with Lists"
      ],
      "metadata": {
        "id": "Cesrp6J7UkIN"
      }
    },
    {
      "cell_type": "code",
      "source": [
        "toppings = ['chocolate', 'sprinkles']\n",
        "for topping in toppings:\n",
        "  if topping == 'chocolate':\n",
        "    print('All out of chocolate')\n",
        "  else:\n",
        "    print('Adding the following topping! ' + topping)"
      ],
      "metadata": {
        "colab": {
          "base_uri": "https://localhost:8080/"
        },
        "id": "P-Yzs4v5UpG1",
        "outputId": "1e02faff-0ead-4e1a-fbec-57733dba7a16"
      },
      "execution_count": 15,
      "outputs": [
        {
          "output_type": "stream",
          "name": "stdout",
          "text": [
            "All out of chocolate\n",
            "Adding the following topping! sprinkles\n"
          ]
        }
      ]
    }
  ]
}