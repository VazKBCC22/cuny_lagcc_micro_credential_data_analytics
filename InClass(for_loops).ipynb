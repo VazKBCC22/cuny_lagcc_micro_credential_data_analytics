{
  "nbformat": 4,
  "nbformat_minor": 0,
  "metadata": {
    "colab": {
      "name": "InClass(for loops).ipynb",
      "provenance": [],
      "authorship_tag": "ABX9TyPtJNcJx64OZduZ5itseXQd",
      "include_colab_link": true
    },
    "kernelspec": {
      "name": "python3",
      "display_name": "Python 3"
    },
    "language_info": {
      "name": "python"
    }
  },
  "cells": [
    {
      "cell_type": "markdown",
      "metadata": {
        "id": "view-in-github",
        "colab_type": "text"
      },
      "source": [
        "<a href=\"https://colab.research.google.com/github/VazKBCC22/cuny_lagcc_micro_credential_data_analytics/blob/main/InClass(for_loops).ipynb\" target=\"_parent\"><img src=\"https://colab.research.google.com/assets/colab-badge.svg\" alt=\"Open In Colab\"/></a>"
      ]
    },
    {
      "cell_type": "code",
      "execution_count": 3,
      "metadata": {
        "colab": {
          "base_uri": "https://localhost:8080/"
        },
        "id": "zQ8kOPoR29Wh",
        "outputId": "334024d4-e7ae-4962-e87d-e1034db5d615"
      },
      "outputs": [
        {
          "output_type": "stream",
          "name": "stdout",
          "text": [
            "cornish hen\n",
            "sauteed mushrooms\n",
            "mutton chops\n",
            "shrimp soup\n",
            "angus beff\n"
          ]
        }
      ],
      "source": [
        "foods = ['cornish hen', 'sauteed mushrooms', 'mutton chops', 'shrimp soup', 'angus beff']\n",
        "for food in foods:\n",
        "  print(food)\n"
      ]
    },
    {
      "cell_type": "code",
      "execution_count": 4,
      "metadata": {
        "colab": {
          "base_uri": "https://localhost:8080/"
        },
        "outputId": "49bd782e-ddda-404f-880d-ac222ea03fd1",
        "id": "vDo9nsR34UmO"
      },
      "outputs": [
        {
          "output_type": "stream",
          "name": "stdout",
          "text": [
            "Cornish Hen is one of my favorite foods.\n",
            "Sauteed Mushrooms is one of my favorite foods.\n",
            "Mutton Chops is one of my favorite foods.\n",
            "Shrimp Soup is one of my favorite foods.\n",
            "Angus Beff is one of my favorite foods.\n"
          ]
        }
      ],
      "source": [
        "for food in foods:\n",
        "    print(food.title() + \" is one of my favorite foods.\")"
      ]
    },
    {
      "cell_type": "code",
      "source": [
        "for food in foods:\n",
        "  print(food)\n",
        "print('I am done')"
      ],
      "metadata": {
        "colab": {
          "base_uri": "https://localhost:8080/"
        },
        "id": "VrvK8GdU4lLf",
        "outputId": "7fd3ac29-b91a-4187-e396-beb9f624b6ac"
      },
      "execution_count": 6,
      "outputs": [
        {
          "output_type": "stream",
          "name": "stdout",
          "text": [
            "cornish hen\n",
            "sauteed mushrooms\n",
            "mutton chops\n",
            "shrimp soup\n",
            "angus beff\n",
            "I am done\n"
          ]
        }
      ]
    },
    {
      "cell_type": "code",
      "source": [
        ""
      ],
      "metadata": {
        "id": "n6GKvrnr4jMI"
      },
      "execution_count": null,
      "outputs": []
    }
  ]
}