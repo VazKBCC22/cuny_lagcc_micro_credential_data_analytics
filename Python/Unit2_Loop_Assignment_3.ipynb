{
  "nbformat": 4,
  "nbformat_minor": 0,
  "metadata": {
    "colab": {
      "name": "Copy of Unit2_Loop_Assignment_3.ipynb",
      "provenance": [],
      "collapsed_sections": [],
      "toc_visible": true
    },
    "kernelspec": {
      "name": "python3",
      "display_name": "Python 3"
    }
  },
  "cells": [
    {
      "cell_type": "markdown",
      "metadata": {
        "id": "Vgs8Kp4TidFQ"
      },
      "source": [
        "# Intrdouction to Python - Loop - Assignment #3 "
      ]
    },
    {
      "cell_type": "markdown",
      "metadata": {
        "id": "_Hq7Ny79iwgD"
      },
      "source": [
        "## 1. Create a list that holds 5 data variables. "
      ]
    },
    {
      "cell_type": "code",
      "metadata": {
        "id": "lotvpVpvlKsR"
      },
      "source": [
        "super_teams = ['Avengers', 'X-Men', 'Justice League of America', 'Defenders', 'Justice Society of America']\n"
      ],
      "execution_count": null,
      "outputs": []
    },
    {
      "cell_type": "markdown",
      "metadata": {
        "id": "io_27RSlizno"
      },
      "source": [
        "## 2.\tPrint out those variables by using a for loop"
      ]
    },
    {
      "cell_type": "code",
      "metadata": {
        "id": "Dh1o5cAylSHB",
        "outputId": "bdb8e499-ea5c-4c14-debb-e37c8b886d92",
        "colab": {
          "base_uri": "https://localhost:8080/"
        }
      },
      "source": [
        "for team in super_teams:\n",
        "  print(team)"
      ],
      "execution_count": null,
      "outputs": [
        {
          "output_type": "stream",
          "name": "stdout",
          "text": [
            "Avengers\n",
            "X-Men\n",
            "Justice League of America\n",
            "Defenders\n",
            "Justice Society of America\n"
          ]
        }
      ]
    },
    {
      "cell_type": "markdown",
      "metadata": {
        "id": "DAW8m8IQjRyR"
      },
      "source": [
        "## 3.\tModify your for loop to add a message to your for loop."
      ]
    },
    {
      "cell_type": "code",
      "metadata": {
        "id": "guULMEhrjYtT",
        "outputId": "c443b6b5-f36d-415a-f70e-2b9050fcc47a",
        "colab": {
          "base_uri": "https://localhost:8080/"
        }
      },
      "source": [
        "for team in super_teams:\n",
        "  print('The ' + team + \" are a super hero group. They are good guys\")"
      ],
      "execution_count": null,
      "outputs": [
        {
          "output_type": "stream",
          "name": "stdout",
          "text": [
            "The Avengers are a super hero group. They are good guys\n",
            "The X-Men are a super hero group. They are good guys\n",
            "The Justice League of America are a super hero group. They are good guys\n",
            "The Defenders are a super hero group. They are good guys\n",
            "The Justice Society of America are a super hero group. They are good guys\n"
          ]
        }
      ]
    },
    {
      "cell_type": "markdown",
      "metadata": {
        "id": "dpa_YOt4jXyo"
      },
      "source": [
        "## 4.\tUse a for loop to print even numbers from 1-20."
      ]
    },
    {
      "cell_type": "code",
      "metadata": {
        "id": "pltxfnh3iJLW",
        "outputId": "7bb5f54c-99df-4a5d-db52-ee380eb71b70",
        "colab": {
          "base_uri": "https://localhost:8080/"
        }
      },
      "source": [
        "for i in range(0, 21, 2):\n",
        "  print(i)\n",
        "  "
      ],
      "execution_count": null,
      "outputs": [
        {
          "output_type": "stream",
          "name": "stdout",
          "text": [
            "0\n",
            "2\n",
            "4\n",
            "6\n",
            "8\n",
            "10\n",
            "12\n",
            "14\n",
            "16\n",
            "18\n",
            "20\n"
          ]
        }
      ]
    },
    {
      "cell_type": "markdown",
      "metadata": {
        "id": "Ka84RGy4jmLT"
      },
      "source": [
        "## 5.\tSort your list in alphabetic order."
      ]
    },
    {
      "cell_type": "code",
      "metadata": {
        "id": "34IFFtK4jrg4",
        "outputId": "a7af5b34-7ec1-45ed-bf84-98a87a239e1e",
        "colab": {
          "base_uri": "https://localhost:8080/"
        }
      },
      "source": [
        "super_teams.sort()\n",
        "print(super_teams)"
      ],
      "execution_count": null,
      "outputs": [
        {
          "output_type": "stream",
          "name": "stdout",
          "text": [
            "['Avengers', 'Defenders', 'Justice League of America', 'Justice Society of America', 'X-Men']\n"
          ]
        }
      ]
    },
    {
      "cell_type": "markdown",
      "metadata": {
        "id": "ZKHwdMnLliFy"
      },
      "source": [
        "## 6.\tPrint out the first three elements of your list."
      ]
    },
    {
      "cell_type": "code",
      "metadata": {
        "id": "eXUDZfLOllTT",
        "outputId": "f8ca5631-69bc-4f1d-903b-9a303f827ded",
        "colab": {
          "base_uri": "https://localhost:8080/"
        }
      },
      "source": [
        "super_teams = ['Avengers', 'X-Men', 'Justice League of America', 'Defenders', 'Justice Society of America']\n",
        "teams = super_teams[0:3]\n",
        "print(teams)"
      ],
      "execution_count": null,
      "outputs": [
        {
          "output_type": "stream",
          "name": "stdout",
          "text": [
            "['Avengers', 'X-Men', 'Justice League of America']\n"
          ]
        }
      ]
    },
    {
      "cell_type": "markdown",
      "metadata": {
        "id": "oedkoLECmv6x"
      },
      "source": [
        "## 7.\tCreate a loop to print the last 2 elements of your list."
      ]
    },
    {
      "cell_type": "code",
      "metadata": {
        "id": "jjh2GdktllZY",
        "outputId": "b7e03f98-3b17-403e-b690-d1670d4ec3b9",
        "colab": {
          "base_uri": "https://localhost:8080/"
        }
      },
      "source": [
        "for team in super_teams:\n",
        "  print(super_teams[-2:])"
      ],
      "execution_count": null,
      "outputs": [
        {
          "output_type": "stream",
          "name": "stdout",
          "text": [
            "['Defenders', 'Justice Society of America']\n",
            "['Defenders', 'Justice Society of America']\n",
            "['Defenders', 'Justice Society of America']\n",
            "['Defenders', 'Justice Society of America']\n",
            "['Defenders', 'Justice Society of America']\n"
          ]
        }
      ]
    }
  ]
}