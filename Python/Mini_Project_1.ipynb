{
  "nbformat": 4,
  "nbformat_minor": 0,
  "metadata": {
    "colab": {
      "name": "Mini_Project_1.ipynb",
      "provenance": [],
      "collapsed_sections": []
    },
    "kernelspec": {
      "name": "python3",
      "display_name": "Python 3"
    },
    "language_info": {
      "name": "python"
    }
  },
  "cells": [
    {
      "cell_type": "markdown",
      "source": [
        "#MINI PROJECT ONE"
      ],
      "metadata": {
        "id": "a_U-3wteo0h9"
      }
    },
    {
      "cell_type": "markdown",
      "source": [
        "###This program will ask the use for a number. If the number is even it print the message 'The is num. This is an even number'. Otherwise it will print the \"This is num. 'This is a odd number."
      ],
      "metadata": {
        "id": "qzzGmCh3o3vq"
      }
    },
    {
      "cell_type": "code",
      "execution_count": 1,
      "metadata": {
        "colab": {
          "base_uri": "https://localhost:8080/"
        },
        "id": "Y7M_7vGojkxf",
        "outputId": "437e7f9a-89ae-4434-aa03-6ca54f0ab7fd"
      },
      "outputs": [
        {
          "output_type": "stream",
          "name": "stdout",
          "text": [
            "Please enter a whole intger. 4\n",
            "This is 4. This is an even number\n"
          ]
        }
      ],
      "source": [
        " num = input('Please enter a whole intger. ')\n",
        " if int(num) % 2 == 0:\n",
        "   print('This is ' + str(num) + '.' + \" This is an even number\")\n",
        "elif int(num)% 3 == 0:\n",
        "  print('This is ' + str(num) + '.' + \" This is an odd number\")\n",
        "else:\n",
        "  print('This is not a integer.' 'You need to start the program again')"
      ]
    },
    {
      "cell_type": "markdown",
      "source": [
        "##The follwoing piece of code is an extension of the code above that will check if a number is a multiple of 4."
      ],
      "metadata": {
        "id": "Ts-nsRbQuP0k"
      }
    },
    {
      "cell_type": "code",
      "execution_count": 2,
      "metadata": {
        "colab": {
          "base_uri": "https://localhost:8080/"
        },
        "outputId": "a472782a-3928-4b77-cb74-44d163941732",
        "id": "_eOzm7fevQP5"
      },
      "outputs": [
        {
          "output_type": "stream",
          "name": "stdout",
          "text": [
            "Please enter a whole intger. 8\n",
            "This is 8. This is number is even and also a multiple of 4\n"
          ]
        }
      ],
      "source": [
        "num = input('Please enter a whole intger. ')\n",
        "\n",
        "if int(num) % 2 == 0 and int(num) % 4 != 0 :\n",
        "   print('This is ' + str(num) + '.' + \" This is an even number\")\n",
        "\n",
        "elif int(num) % 2 == 0 and int(num) % 4 == 0:\n",
        "  print('This is ' + str(num) + '.' +\n",
        "        ' This is number is even and also a multiple of 4')\n",
        "\n",
        "elif int(num)% 3 == 0:\n",
        "  print('This is ' + str(num) + '.' + \" This is an odd number\")\n",
        "\n",
        "else:\n",
        "  print('This is not a integer.' 'You need to start the program again')"
      ]
    },
    {
      "cell_type": "markdown",
      "source": [
        ""
      ],
      "metadata": {
        "id": "W8kMMSC60seW"
      }
    },
    {
      "cell_type": "markdown",
      "source": [
        "##Ask the user of two numbers: one number to check (call it num) and one number to divide by (check). If check divides evenlty into num, tell that to the user. It not, print a different appropriate message."
      ],
      "metadata": {
        "id": "TkgwdLqi74I_"
      }
    },
    {
      "cell_type": "code",
      "source": [
        "num = int(input('Enter a whole integer number: '))\n",
        "check = int(input('Enter another whole integer numbers: '))\n",
        "if num % check == 0:\n",
        "  print('There is no remainder')\n",
        "else:\n",
        "  print('We have a remainder')\n"
      ],
      "metadata": {
        "colab": {
          "base_uri": "https://localhost:8080/"
        },
        "id": "mafNTvaH8bua",
        "outputId": "f93337ef-65fb-4a25-c4e9-361ef8038a43"
      },
      "execution_count": 4,
      "outputs": [
        {
          "output_type": "stream",
          "name": "stdout",
          "text": [
            "Enter a whole integer number: 48\n",
            "Enter another whole integer numbers: 6\n",
            "There is no remainder\n"
          ]
        }
      ]
    },
    {
      "cell_type": "markdown",
      "source": [
        "##Write a custom function for finding whether the number is even or odd and call it in your main program code"
      ],
      "metadata": {
        "id": "1175HTOEAh3e"
      }
    },
    {
      "cell_type": "code",
      "source": [
        "number = int(input('Enter a whole integer: '))\n",
        "def even_or_odd(number):\n",
        "  if number % 2 == 0:\n",
        "    print( str(number) + \" \"  + 'is even') \n",
        "  else:\n",
        "    print( str(number) + \" \" ' is odd')\n",
        "\n",
        "even_or_odd(number)\n"
      ],
      "metadata": {
        "colab": {
          "base_uri": "https://localhost:8080/"
        },
        "id": "2p501PL0AwPE",
        "outputId": "93a5b15f-309a-4536-e02a-59171e075bb8"
      },
      "execution_count": 12,
      "outputs": [
        {
          "output_type": "stream",
          "name": "stdout",
          "text": [
            "Enter a whole integer: 9\n",
            "9  is odd\n"
          ]
        }
      ]
    },
    {
      "cell_type": "code",
      "source": [
        ""
      ],
      "metadata": {
        "id": "yNXgY1AkB5lz"
      },
      "execution_count": null,
      "outputs": []
    }
  ]
}