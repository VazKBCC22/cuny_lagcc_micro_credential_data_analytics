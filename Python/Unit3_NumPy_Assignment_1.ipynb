{
  "nbformat": 4,
  "nbformat_minor": 0,
  "metadata": {
    "colab": {
      "name": "Copy of Unit3_NumPy_Assignment_1.ipynb",
      "provenance": [],
      "collapsed_sections": [],
      "toc_visible": true
    },
    "kernelspec": {
      "name": "python3",
      "display_name": "Python 3"
    }
  },
  "cells": [
    {
      "cell_type": "markdown",
      "metadata": {
        "id": "Vgs8Kp4TidFQ"
      },
      "source": [
        "# Unit 3 - Advanced Python - NumPy - Assingment #1  "
      ]
    },
    {
      "cell_type": "markdown",
      "metadata": {
        "id": "_Hq7Ny79iwgD"
      },
      "source": [
        "## 1. Environment Set up"
      ]
    },
    {
      "cell_type": "code",
      "metadata": {
        "id": "MiB4JCOP5FdJ"
      },
      "source": [
        "import numpy as np\n",
        "import pandas as pd"
      ],
      "execution_count": 30,
      "outputs": []
    },
    {
      "cell_type": "code",
      "metadata": {
        "id": "lotvpVpvlKsR"
      },
      "source": [
        "#Dataset from summer Olympic London, year 2012\n",
        "np_olympic_country = np.array(['GBR','China','RUS','US','KOR','JPN','GER'])\n",
        "np_olympic_country_Gold = np.array([29,38,24,46,13,7,11])\n",
        "np_olympic_country_Silver = np.array([17,28,25,28,8,14,11])\n",
        "np_olympic_country_Bronze = np.array([19,22,32,29,7,17,14])"
      ],
      "execution_count": 31,
      "outputs": []
    },
    {
      "cell_type": "code",
      "metadata": {
        "id": "oNXY-CfrlLbE"
      },
      "source": [
        "data = {'Country': np_olympic_country,\n",
        "       'Gold Medal': np_olympic_country_Gold,\n",
        "        'Silver Medal': np_olympic_country_Silver,\n",
        "        'Bronze Medal': np_olympic_country_Bronze}\n",
        "olympic_wins = pd.DataFrame(data, columns=['Country', 'Gold Medal',\n",
        "                                           'Silver Medal', 'Bronze Medal'])"
      ],
      "execution_count": 32,
      "outputs": []
    },
    {
      "cell_type": "code",
      "source": [
        "print(olympic_wins)"
      ],
      "metadata": {
        "colab": {
          "base_uri": "https://localhost:8080/"
        },
        "id": "GaB6qLXGFT65",
        "outputId": "febee022-9b6f-4cb1-86b9-838e524d6007"
      },
      "execution_count": 33,
      "outputs": [
        {
          "output_type": "stream",
          "name": "stdout",
          "text": [
            "  Country  Gold Medal  Silver Medal  Bronze Medal\n",
            "0     GBR          29            17            19\n",
            "1   China          38            28            22\n",
            "2     RUS          24            25            32\n",
            "3      US          46            28            29\n",
            "4     KOR          13             8             7\n",
            "5     JPN           7            14            17\n",
            "6     GER          11            11            14\n"
          ]
        }
      ]
    },
    {
      "cell_type": "markdown",
      "metadata": {
        "id": "io_27RSlizno"
      },
      "source": [
        "## 2.\tFind country with maximum gold"
      ]
    },
    {
      "cell_type": "code",
      "metadata": {
        "id": "Dh1o5cAylSHB"
      },
      "source": [
        "most_gold = np_olympic_country_Gold.argmax()\n",
        "max_gold = np_olympic_country[most_gold]"
      ],
      "execution_count": 80,
      "outputs": []
    },
    {
      "cell_type": "code",
      "metadata": {
        "id": "vs8ppR-wlSKL",
        "colab": {
          "base_uri": "https://localhost:8080/"
        },
        "outputId": "dccec5a5-d74d-4223-ac4a-e0d3dc47827c"
      },
      "source": [
        "print(max_gold + \" has the most gold medals with  46\"  )"
      ],
      "execution_count": 84,
      "outputs": [
        {
          "output_type": "stream",
          "name": "stdout",
          "text": [
            "US has the most gold medals with  46\n"
          ]
        }
      ]
    },
    {
      "cell_type": "markdown",
      "metadata": {
        "id": "DAW8m8IQjRyR"
      },
      "source": [
        "## 3.\tFind countries with more than 20 gold medals"
      ]
    },
    {
      "cell_type": "code",
      "source": [
        "top_4 = np_olympic_country[np_olympic_country_Gold > 20]\n",
        "print(str(top_4) + ' each of these countries has more than 20 gold medals')"
      ],
      "metadata": {
        "colab": {
          "base_uri": "https://localhost:8080/"
        },
        "id": "wnNJ78ybdrI3",
        "outputId": "5995feba-a6a3-4ca3-a6b5-8a2ad81bebca"
      },
      "execution_count": 98,
      "outputs": [
        {
          "output_type": "stream",
          "name": "stdout",
          "text": [
            "['GBR' 'China' 'RUS' 'US'] each of these countries has more than 20 gold medals\n"
          ]
        }
      ]
    }
  ]
}