{
  "nbformat": 4,
  "nbformat_minor": 0,
  "metadata": {
    "colab": {
      "name": "ClassNote(Ditctionaries).ipynb",
      "provenance": [],
      "collapsed_sections": []
    },
    "kernelspec": {
      "name": "python3",
      "display_name": "Python 3"
    },
    "language_info": {
      "name": "python"
    }
  },
  "cells": [
    {
      "cell_type": "markdown",
      "source": [
        "#Dictionaries"
      ],
      "metadata": {
        "id": "WZ57eDVjIOz1"
      }
    },
    {
      "cell_type": "code",
      "source": [
        "patient_1 = {'first_name': 'John', 'last_name': 'Kimble'}\n",
        "print(patient_1['first_name'])\n",
        "print(patient_1['last_name'])"
      ],
      "metadata": {
        "colab": {
          "base_uri": "https://localhost:8080/"
        },
        "id": "OJgNzshZIVnT",
        "outputId": "a17a39b4-fa7a-43ab-f5e8-81a1770c3bff"
      },
      "execution_count": 8,
      "outputs": [
        {
          "output_type": "stream",
          "name": "stdout",
          "text": [
            "John\n",
            "Kimble\n"
          ]
        }
      ]
    },
    {
      "cell_type": "markdown",
      "source": [
        "##Accessing Dictionaries"
      ],
      "metadata": {
        "id": "RKjArveZJRru"
      }
    },
    {
      "cell_type": "code",
      "source": [
        "patient_name = patient_1['first_name']\n",
        "print('Hello there, ' + patient_name)"
      ],
      "metadata": {
        "colab": {
          "base_uri": "https://localhost:8080/"
        },
        "id": "0Lb2IZ2vJRJ7",
        "outputId": "bd5366a6-41c3-42f4-9f04-38ef466d452a"
      },
      "execution_count": 9,
      "outputs": [
        {
          "output_type": "stream",
          "name": "stdout",
          "text": [
            "Hello there, John\n"
          ]
        }
      ]
    },
    {
      "cell_type": "markdown",
      "source": [
        "## New Key-Value Pais"
      ],
      "metadata": {
        "id": "dfkTwCTLJ5GH"
      }
    },
    {
      "cell_type": "code",
      "source": [
        "patient_1['MRN'] = '00000000'\n",
        "patient_1['Last_exam'] = 'echo'\n",
        "patient_1"
      ],
      "metadata": {
        "colab": {
          "base_uri": "https://localhost:8080/"
        },
        "id": "rVJDT9q0J9gt",
        "outputId": "74008216-bc49-41c8-f97c-55a42aa0a273"
      },
      "execution_count": 10,
      "outputs": [
        {
          "output_type": "execute_result",
          "data": {
            "text/plain": [
              "{'Last_exam': 'echo',\n",
              " 'MRN': '00000000',\n",
              " 'first_name': 'John',\n",
              " 'last_name': 'Kimble'}"
            ]
          },
          "metadata": {},
          "execution_count": 10
        }
      ]
    },
    {
      "cell_type": "markdown",
      "source": [
        "##Starting With an Empty Dictionary"
      ],
      "metadata": {
        "id": "eU847XbBKezG"
      }
    },
    {
      "cell_type": "code",
      "source": [
        "patient_2 = {}"
      ],
      "metadata": {
        "id": "fFtmpXGYKwK7"
      },
      "execution_count": 11,
      "outputs": []
    },
    {
      "cell_type": "code",
      "source": [
        "patient_2['first_name'] = 'Jean'\n",
        "patient_2['last_name'] = 'Picard'\n",
        "print(patient_2)"
      ],
      "metadata": {
        "colab": {
          "base_uri": "https://localhost:8080/"
        },
        "id": "4FMB-xHgK-XU",
        "outputId": "aa37e5b5-2d68-4ee0-c416-ff13329d3ef3"
      },
      "execution_count": 14,
      "outputs": [
        {
          "output_type": "stream",
          "name": "stdout",
          "text": [
            "{'first_name': 'Jean', 'last_name': 'Picard'}\n"
          ]
        }
      ]
    },
    {
      "cell_type": "markdown",
      "source": [
        "##Modifying Values"
      ],
      "metadata": {
        "id": "GSTBtw-sMc4q"
      }
    },
    {
      "cell_type": "code",
      "source": [
        "patient_2['first_name'] = 'Jean-Luc'\n",
        "print(patient_2)"
      ],
      "metadata": {
        "colab": {
          "base_uri": "https://localhost:8080/"
        },
        "id": "lhepiNXWMhjz",
        "outputId": "2e71b569-070f-42e4-dee9-6bbf3585a88e"
      },
      "execution_count": 15,
      "outputs": [
        {
          "output_type": "stream",
          "name": "stdout",
          "text": [
            "{'first_name': 'Jean-Luc', 'last_name': 'Picard'}\n"
          ]
        }
      ]
    },
    {
      "cell_type": "markdown",
      "source": [
        "##Removing Key-Value Pairs"
      ],
      "metadata": {
        "id": "mPjT9Z2nNN_d"
      }
    },
    {
      "cell_type": "code",
      "source": [
        "del patient_2['first_name']\n",
        "print(patient_2)"
      ],
      "metadata": {
        "colab": {
          "base_uri": "https://localhost:8080/"
        },
        "id": "yo8VijD_NbZ2",
        "outputId": "9417fa25-62cf-44be-9a3b-f5f7d23f2f23"
      },
      "execution_count": 16,
      "outputs": [
        {
          "output_type": "stream",
          "name": "stdout",
          "text": [
            "{'last_name': 'Picard'}\n"
          ]
        }
      ]
    },
    {
      "cell_type": "markdown",
      "source": [
        "#Dictionaires: 5 Mins"
      ],
      "metadata": {
        "id": "JdP8hMxMN1lU"
      }
    },
    {
      "cell_type": "code",
      "source": [
        "patient_3 = {\n",
        "    'name': 'jack',\n",
        "    'last_name': 'sparrow',\n",
        "    'mrn': '001234567',\n",
        "    'dob': '02231845'\n",
        "}\n",
        "print(patient_3)"
      ],
      "metadata": {
        "colab": {
          "base_uri": "https://localhost:8080/"
        },
        "id": "un7nj_-dN_LC",
        "outputId": "d82782a9-63a7-431c-9674-7de9a26c97d8"
      },
      "execution_count": 19,
      "outputs": [
        {
          "output_type": "stream",
          "name": "stdout",
          "text": [
            "{'name': 'jack', 'last_name': 'sparrow', 'mrn': '001234567', 'dob': '02231845'}\n"
          ]
        }
      ]
    },
    {
      "cell_type": "markdown",
      "source": [
        "##Exercises"
      ],
      "metadata": {
        "id": "zldjjn3IQaWt"
      }
    },
    {
      "cell_type": "code",
      "source": [
        "friend = {'first': 'Sharon', 'last': 'Lee', 'age':'32', 'city': 'Harlem', 'occupation': 'Finance Proffesor'}\n",
        "print(friend)"
      ],
      "metadata": {
        "colab": {
          "base_uri": "https://localhost:8080/"
        },
        "id": "yALvZbi5QfIz",
        "outputId": "0020ffd3-587c-478c-e8fd-c39805d319c9"
      },
      "execution_count": 20,
      "outputs": [
        {
          "output_type": "stream",
          "name": "stdout",
          "text": [
            "{'first': 'Sharon', 'last': 'Lee', 'age': '32', 'city': 'Harlem', 'occupation': 'Finance Proffesor'}\n"
          ]
        }
      ]
    },
    {
      "cell_type": "code",
      "source": [
        "jsa = {'Alan Scott': '25 years', 'Jay Garrick': '20 years', \n",
        "       'Ted Grant': '32 years', 'Wesdley Dobbs': '33 years', \n",
        "       'Dinah Lance': '20 years'}\n",
        "print(jsa)"
      ],
      "metadata": {
        "colab": {
          "base_uri": "https://localhost:8080/"
        },
        "id": "jXSYnSV3R5Nc",
        "outputId": "317e3b8c-fb53-4121-c02b-78a0ca020cce"
      },
      "execution_count": 21,
      "outputs": [
        {
          "output_type": "stream",
          "name": "stdout",
          "text": [
            "{'Alan Scott': '25 years', 'Jay Garrick': '20 years', 'Ted Grant': '32 years', 'Wesdley Dobbs': '33 years', 'Dinah Lance': '20 years'}\n"
          ]
        }
      ]
    },
    {
      "cell_type": "markdown",
      "source": [
        "##Looping"
      ],
      "metadata": {
        "id": "ZthiEpTScBpu"
      }
    },
    {
      "cell_type": "code",
      "source": [
        "for key, value in patient_3.items():\n",
        "  print(\"\\nKey: \" + key)\n",
        "  print(\"\\nValue: \" + value)"
      ],
      "metadata": {
        "colab": {
          "base_uri": "https://localhost:8080/"
        },
        "id": "MuAqi0BvcExv",
        "outputId": "0e994794-f7f0-4db4-c815-23c6d7704344"
      },
      "execution_count": 23,
      "outputs": [
        {
          "output_type": "stream",
          "name": "stdout",
          "text": [
            "\n",
            "Key: name\n",
            "\n",
            "Value: jack\n",
            "\n",
            "Key: last_name\n",
            "\n",
            "Value: sparrow\n",
            "\n",
            "Key: mrn\n",
            "\n",
            "Value: 001234567\n",
            "\n",
            "Key: dob\n",
            "\n",
            "Value: 02231845\n"
          ]
        }
      ]
    },
    {
      "cell_type": "markdown",
      "source": [
        "##Keys Only"
      ],
      "metadata": {
        "id": "GjPNbGb5dmiS"
      }
    },
    {
      "cell_type": "code",
      "source": [
        "for keys in patient_3.keys():\n",
        "  print(keys)"
      ],
      "metadata": {
        "colab": {
          "base_uri": "https://localhost:8080/"
        },
        "id": "Gwwcc8BKdpwp",
        "outputId": "2da357f5-8c97-4a09-cb02-d1640cdbb327"
      },
      "execution_count": 24,
      "outputs": [
        {
          "output_type": "stream",
          "name": "stdout",
          "text": [
            "name\n",
            "last_name\n",
            "mrn\n",
            "dob\n"
          ]
        }
      ]
    },
    {
      "cell_type": "markdown",
      "source": [
        "##Keys"
      ],
      "metadata": {
        "id": "xzJ9sludgbfw"
      }
    },
    {
      "cell_type": "markdown",
      "source": [
        "Creating a new dictionary to work with keys"
      ],
      "metadata": {
        "id": "TlJLKPQ-gif0"
      }
    },
    {
      "cell_type": "code",
      "source": [
        "friends_ages = {\n",
        "    'nick': '30',\n",
        "    'amanda': '34',\n",
        "    'john': '36',\n",
        "    'haley': '26'\n",
        "}\n",
        "fav_friends = ['nick', 'amanda']\n",
        "for name in friends_ages.keys():\n",
        "  print(name.title())\n",
        "\n",
        "  if name in fav_friends:\n",
        "    print('Hi ' + name.title() + \" , I see you're  \" + friends_ages[name])"
      ],
      "metadata": {
        "colab": {
          "base_uri": "https://localhost:8080/"
        },
        "id": "huyN7nwpge2q",
        "outputId": "9c9f590a-e14a-43eb-8946-0f77151f19b0"
      },
      "execution_count": 25,
      "outputs": [
        {
          "output_type": "stream",
          "name": "stdout",
          "text": [
            "Nick\n",
            "Hi Nick , I see you're  30\n",
            "Amanda\n",
            "Hi Amanda , I see you're  34\n",
            "John\n",
            "Haley\n"
          ]
        }
      ]
    },
    {
      "cell_type": "markdown",
      "source": [
        "##While Loops"
      ],
      "metadata": {
        "id": "CGDg_gfejWDZ"
      }
    },
    {
      "cell_type": "code",
      "source": [
        "number = 1\n",
        "while number <= 5:\n",
        "  print(number)\n",
        "  number += 1"
      ],
      "metadata": {
        "colab": {
          "base_uri": "https://localhost:8080/"
        },
        "id": "lSeThjipjbfD",
        "outputId": "d9a119d9-595e-44e2-adaf-bb9d4b0f1cc3"
      },
      "execution_count": 26,
      "outputs": [
        {
          "output_type": "stream",
          "name": "stdout",
          "text": [
            "1\n",
            "2\n",
            "3\n",
            "4\n",
            "5\n"
          ]
        }
      ]
    },
    {
      "cell_type": "markdown",
      "source": [
        "##User Input"
      ],
      "metadata": {
        "id": "w6Fp1QXGj9kJ"
      }
    },
    {
      "cell_type": "code",
      "source": [
        "message = input(\"Please enter your first name: \")\n",
        "print(message)"
      ],
      "metadata": {
        "colab": {
          "base_uri": "https://localhost:8080/"
        },
        "id": "nBURW2rnkE0a",
        "outputId": "7cf81561-90ad-40fd-a7ce-9890304964a6"
      },
      "execution_count": 29,
      "outputs": [
        {
          "output_type": "stream",
          "name": "stdout",
          "text": [
            "Please enter your first name: Juan\n",
            "Juan\n"
          ]
        }
      ]
    },
    {
      "cell_type": "code",
      "source": [
        "age = input(\"Please enter your age\")\n",
        "print(age)"
      ],
      "metadata": {
        "colab": {
          "base_uri": "https://localhost:8080/"
        },
        "id": "395F3vL7kPpq",
        "outputId": "bd68786d-d202-4fe8-97ec-6f6338372325"
      },
      "execution_count": 27,
      "outputs": [
        {
          "output_type": "stream",
          "name": "stdout",
          "text": [
            "Please enter your age29\n",
            "29\n"
          ]
        }
      ]
    },
    {
      "cell_type": "markdown",
      "source": [
        "##While Loops and User Input"
      ],
      "metadata": {
        "id": "Fb4yTyphlKAi"
      }
    },
    {
      "cell_type": "code",
      "source": [
        "prompt = \"Input a message. I will repeat it until you type 'quit'\"\n",
        "message = \"\"\n",
        "while message != 'quit':\n",
        "  message = input(prompt)\n",
        "  print(message)"
      ],
      "metadata": {
        "colab": {
          "base_uri": "https://localhost:8080/"
        },
        "id": "dlHo5GcalNnQ",
        "outputId": "734635b9-9d09-4ed9-cd68-f0c6c2dbb664"
      },
      "execution_count": 30,
      "outputs": [
        {
          "output_type": "stream",
          "name": "stdout",
          "text": [
            "Input a message. I will repeat it until you type 'quit'j\n",
            "j\n",
            "Input a message. I will repeat it until you type 'quit'l\n",
            "l\n",
            "Input a message. I will repeat it until you type 'quit'quit\n",
            "quit\n"
          ]
        }
      ]
    },
    {
      "cell_type": "markdown",
      "source": [
        "##Flags With While Loops"
      ],
      "metadata": {
        "id": "pxItoL8UmlqE"
      }
    },
    {
      "cell_type": "code",
      "source": [
        "prompt = \"Input a message. I will repeat it until you type 'quit'\"\n",
        "message = \"\"\n",
        "\n",
        "active = True\n",
        "while active:\n",
        "  message = input(prompt)\n",
        "\n",
        "  if message == 'quit':\n",
        "    active = False\n",
        "  \n",
        "  else:\n",
        "    print(message)"
      ],
      "metadata": {
        "colab": {
          "base_uri": "https://localhost:8080/"
        },
        "id": "aOcvUndpmp69",
        "outputId": "4107ae29-6ef9-4577-a1ba-488e85d3d62f"
      },
      "execution_count": 33,
      "outputs": [
        {
          "name": "stdout",
          "output_type": "stream",
          "text": [
            "Input a message. I will repeat it until you type 'quit'flas\n",
            "flas\n",
            "Input a message. I will repeat it until you type 'quit'la\n",
            "la\n",
            "Input a message. I will repeat it until you type 'quit'fsae\n",
            "fsae\n",
            "Input a message. I will repeat it until you type 'quit'quit\n"
          ]
        }
      ]
    }
  ]
}